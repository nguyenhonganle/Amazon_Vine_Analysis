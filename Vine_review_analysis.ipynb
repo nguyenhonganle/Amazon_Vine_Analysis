{
 "cells": [
  {
   "cell_type": "code",
   "execution_count": null,
   "metadata": {
    "id": "AniW3vgnXLTr"
   },
   "outputs": [],
   "source": [
    "# Install Java, Spark, and Findspark\n",
    "!apt-get install openjdk-8-jdk-headless -qq > /dev/null\n",
    "!wget -q http://www-us.apache.org/dist/spark/spark-2.4.5/spark-2.4.5-bin-hadoop2.7.tgz\n",
    "!tar xf spark-2.4.5-bin-hadoop2.7.tgz\n",
    "!pip install -q findspark\n",
    "\n",
    "# Set Environment Variables\n",
    "import os\n",
    "os.environ[\"JAVA_HOME\"] = \"/usr/lib/jvm/java-8-openjdk-amd64\"\n",
    "os.environ[\"SPARK_HOME\"] = \"/content/spark-2.4.5-bin-hadoop2.7\"\n",
    "\n",
    "# Start a SparkSession\n",
    "import findspark\n",
    "findspark.init()"
   ]
  },
  {
   "cell_type": "code",
   "execution_count": null,
   "metadata": {
    "id": "Iv0qIzalgsMW"
   },
   "outputs": [],
   "source": [
    "# Start Spark session\n",
    "from pyspark.sql import SparkSession\n",
    "spark = SparkSession.builder.appName(\"Vine_reviews\").getOrCreate()"
   ]
  },
  {
   "cell_type": "code",
   "execution_count": null,
   "metadata": {
    "id": "hhbl_B7Rr1ke"
   },
   "outputs": [],
   "source": [
    "# Import struct fields that we can use\n",
    "from pyspark.sql.types import StructField, StringType, IntegerType, DateType, StructType"
   ]
  },
  {
   "cell_type": "code",
   "execution_count": null,
   "metadata": {
    "colab": {
     "base_uri": "https://localhost:8080/",
     "height": 269
    },
    "id": "g7BGlaFYsD4D",
    "outputId": "0832a46e-4bfd-463b-dd0c-81bbb7b566a1"
   },
   "outputs": [
    {
     "data": {
      "text/plain": [
       "[StructField(marketplace,StringType,true),\n",
       " StructField(customer_id,IntegerType,true),\n",
       " StructField(review_id,StringType,true),\n",
       " StructField(product_id,StringType,true),\n",
       " StructField(product_parent,IntegerType,true),\n",
       " StructField(product_title,StringType,true),\n",
       " StructField(product_category,StringType,true),\n",
       " StructField(star_rating,IntegerType,true),\n",
       " StructField(helpful_votes,IntegerType,true),\n",
       " StructField(total_votes,IntegerType,true),\n",
       " StructField(vine,StringType,true),\n",
       " StructField(verified_purchase,StringType,true),\n",
       " StructField(review_headline,StringType,true),\n",
       " StructField(review_body,StringType,true),\n",
       " StructField(review_date,DateType,true)]"
      ]
     },
     "execution_count": 4,
     "metadata": {
      "tags": []
     },
     "output_type": "execute_result"
    }
   ],
   "source": [
    "# Next we need to create the list of struct fields\n",
    "schema = [StructField(\"marketplace\", StringType(), True), StructField(\"customer_id\", IntegerType(), True),StructField(\"review_id\", StringType(), True),StructField(\"product_id\", StringType(), True),StructField(\"product_parent\", IntegerType(), True),StructField(\"product_title\", StringType(), True),StructField(\"product_category\", StringType(), True),StructField(\"star_rating\", IntegerType(), True),StructField(\"helpful_votes\", IntegerType(), True),StructField(\"total_votes\", IntegerType(), True),StructField(\"vine\", StringType(), True),StructField(\"verified_purchase\", StringType(), True),StructField(\"review_headline\", StringType(), True),StructField(\"review_body\", StringType(), True),StructField(\"review_date\", DateType(), True)]\n",
    "schema"
   ]
  },
  {
   "cell_type": "code",
   "execution_count": null,
   "metadata": {
    "colab": {
     "base_uri": "https://localhost:8080/",
     "height": 54
    },
    "id": "u8PWnFlQsHBZ",
    "outputId": "a60d66fb-3326-4ca7-a99f-63b10cf4fb37"
   },
   "outputs": [
    {
     "data": {
      "text/plain": [
       "StructType(List(StructField(marketplace,StringType,true),StructField(customer_id,IntegerType,true),StructField(review_id,StringType,true),StructField(product_id,StringType,true),StructField(product_parent,IntegerType,true),StructField(product_title,StringType,true),StructField(product_category,StringType,true),StructField(star_rating,IntegerType,true),StructField(helpful_votes,IntegerType,true),StructField(total_votes,IntegerType,true),StructField(vine,StringType,true),StructField(verified_purchase,StringType,true),StructField(review_headline,StringType,true),StructField(review_body,StringType,true),StructField(review_date,DateType,true)))"
      ]
     },
     "execution_count": 5,
     "metadata": {
      "tags": []
     },
     "output_type": "execute_result"
    }
   ],
   "source": [
    "# Pass in our fields\n",
    "final = StructType(fields=schema)\n",
    "final"
   ]
  },
  {
   "cell_type": "code",
   "execution_count": null,
   "metadata": {
    "colab": {
     "base_uri": "https://localhost:8080/",
     "height": 306
    },
    "id": "iz1w4kVIsYM_",
    "outputId": "1858c252-fe42-48ec-fe32-c7bf628c6cc2"
   },
   "outputs": [
    {
     "name": "stdout",
     "output_type": "stream",
     "text": [
      "+-----------+-----------+--------------+----------+--------------+--------------------+----------------+-----------+-------------+-----------+----+-----------------+--------------------+--------------------+-----------+\n",
      "|marketplace|customer_id|     review_id|product_id|product_parent|       product_title|product_category|star_rating|helpful_votes|total_votes|vine|verified_purchase|     review_headline|         review_body|review_date|\n",
      "+-----------+-----------+--------------+----------+--------------+--------------------+----------------+-----------+-------------+-----------+----+-----------------+--------------------+--------------------+-----------+\n",
      "|         US|   41409413|R2MTG1GCZLR2DK|B00428R89M|     112201306|yoomall 5M Antenn...|     Electronics|          5|            0|          0|   N|                Y|          Five Stars|       As described.| 2015-08-31|\n",
      "|         US|   49668221|R2HBOEM8LE9928|B000068O48|     734576678|Hosa GPM-103 3.5m...|     Electronics|          5|            0|          0|   N|                Y|It works as adver...|It works as adver...| 2015-08-31|\n",
      "|         US|   12338275|R1P4RW1R9FDPEE|B000GGKOG8|     614448099|Channel Master Ti...|     Electronics|          5|            1|          1|   N|                Y|          Five Stars|         Works pissa| 2015-08-31|\n",
      "|         US|   38487968|R1EBPM82ENI67M|B000NU4OTA|      72265257|LIMTECH Wall char...|     Electronics|          1|            0|          0|   N|                Y|            One Star|Did not work at all.| 2015-08-31|\n",
      "|         US|   23732619|R372S58V6D11AT|B00JOQIO6S|     308169188|Skullcandy Air Ra...|     Electronics|          5|            1|          1|   N|                Y|Overall pleased w...|Works well. Bass ...| 2015-08-31|\n",
      "|         US|   21257820|R1A4514XOYI1PD|B008NCD2LG|     976385982|Pioneer SP-BS22-L...|     Electronics|          5|            1|          1|   N|                Y|          Five Stars|The quality on th...| 2015-08-31|\n",
      "|         US|    3084991|R20D9EHB7N20V6|B00007FGUF|     670878953|C2G/Cables to Go ...|     Electronics|          5|            0|          0|   N|                Y|           Lifesaver|Wish I could give...| 2015-08-31|\n",
      "|         US|    8153674|R1WUTD8MVSROJU|B00M9V2RMM|     508452933|COOLEAD-HDMI Swit...|     Electronics|          5|            0|          0|   N|                Y|          Five Stars|         works great| 2015-08-31|\n",
      "|         US|   52246189|R1QCYLT25812DM|B00J3O9DYI|     766372886|Philips Wireless ...|     Electronics|          4|            0|          0|   N|                Y|          Four Stars|Great sound and c...| 2015-08-31|\n",
      "|         US|   41463864| R904DQPBCEM7A|B00NS1A0E4|     458130381|PlayStation 3 3D ...|     Electronics|          4|            0|          0|   N|                Y|          Four Stars|    It works well~~~| 2015-08-31|\n",
      "+-----------+-----------+--------------+----------+--------------+--------------------+----------------+-----------+-------------+-----------+----+-----------------+--------------------+--------------------+-----------+\n",
      "only showing top 10 rows\n",
      "\n"
     ]
    }
   ],
   "source": [
    "from pyspark import SparkFiles\n",
    "url =\"https://s3.amazonaws.com/amazon-reviews-pds/tsv/amazon_reviews_us_Electronics_v1_00.tsv.gz\"\n",
    "spark.sparkContext.addFile(url)\n",
    "electronics_mod_data_df = spark.read.csv(SparkFiles.get(\"amazon_reviews_us_Electronics_v1_00.tsv.gz\"), schema=final, sep=\"\\t\", header=True)\n",
    "\n",
    "electronics_mod_data_df.show(10)"
   ]
  },
  {
   "cell_type": "code",
   "execution_count": null,
   "metadata": {
    "colab": {
     "base_uri": "https://localhost:8080/",
     "height": 54
    },
    "id": "qbkqJL6YstzS",
    "outputId": "a33d80c4-324e-4c7b-d53b-59993392c438"
   },
   "outputs": [
    {
     "data": {
      "text/plain": [
       "DataFrame[summary: string, marketplace: string, customer_id: string, review_id: string, product_id: string, product_parent: string, product_title: string, product_category: string, star_rating: string, helpful_votes: string, total_votes: string, vine: string, verified_purchase: string, review_headline: string, review_body: string]"
      ]
     },
     "execution_count": 7,
     "metadata": {
      "tags": []
     },
     "output_type": "execute_result"
    }
   ],
   "source": [
    "electronics_mod_data_df.describe()"
   ]
  },
  {
   "cell_type": "code",
   "execution_count": null,
   "metadata": {
    "colab": {
     "base_uri": "https://localhost:8080/",
     "height": 302
    },
    "id": "qyHBpLs5suBd",
    "outputId": "4b4087f1-6c49-4c10-b89e-1966fa00bd3c"
   },
   "outputs": [
    {
     "name": "stdout",
     "output_type": "stream",
     "text": [
      "root\n",
      " |-- marketplace: string (nullable = true)\n",
      " |-- customer_id: integer (nullable = true)\n",
      " |-- review_id: string (nullable = true)\n",
      " |-- product_id: string (nullable = true)\n",
      " |-- product_parent: integer (nullable = true)\n",
      " |-- product_title: string (nullable = true)\n",
      " |-- product_category: string (nullable = true)\n",
      " |-- star_rating: integer (nullable = true)\n",
      " |-- helpful_votes: integer (nullable = true)\n",
      " |-- total_votes: integer (nullable = true)\n",
      " |-- vine: string (nullable = true)\n",
      " |-- verified_purchase: string (nullable = true)\n",
      " |-- review_headline: string (nullable = true)\n",
      " |-- review_body: string (nullable = true)\n",
      " |-- review_date: date (nullable = true)\n",
      "\n"
     ]
    }
   ],
   "source": [
    "electronics_mod_data_df.printSchema()"
   ]
  },
  {
   "cell_type": "code",
   "execution_count": null,
   "metadata": {
    "colab": {
     "base_uri": "https://localhost:8080/",
     "height": 34
    },
    "id": "deLi9JZ-suEL",
    "outputId": "c2143b98-9aa3-46e4-fb9b-f28a971f0fc1"
   },
   "outputs": [
    {
     "data": {
      "text/plain": [
       "3093869"
      ]
     },
     "execution_count": 9,
     "metadata": {
      "tags": []
     },
     "output_type": "execute_result"
    }
   ],
   "source": [
    "# Count the number of records (rows) in the dataset\n",
    "electronics_mod_data_df.count()"
   ]
  },
  {
   "cell_type": "code",
   "execution_count": null,
   "metadata": {
    "colab": {
     "base_uri": "https://localhost:8080/",
     "height": 34
    },
    "id": "4G_hgh6GsuG7",
    "outputId": "cd581077-68d7-44ce-f2cf-6e8b5c8e9bff"
   },
   "outputs": [
    {
     "data": {
      "text/plain": [
       "3093660"
      ]
     },
     "execution_count": 10,
     "metadata": {
      "tags": []
     },
     "output_type": "execute_result"
    }
   ],
   "source": [
    "# Drop any rows with null or “not a number” (NaN) values\n",
    "electronics_clean_data_df = electronics_mod_data_df.dropna()\n",
    "electronics_clean_data_df.count()"
   ]
  },
  {
   "cell_type": "code",
   "execution_count": null,
   "metadata": {
    "colab": {
     "base_uri": "https://localhost:8080/",
     "height": 306
    },
    "id": "vn9OEO0bsuJv",
    "outputId": "343ca447-079b-413d-bc36-a572a2643bd0"
   },
   "outputs": [
    {
     "name": "stdout",
     "output_type": "stream",
     "text": [
      "+-----------+-----------+--------------+----------+--------------+--------------------+----------------+-----------+-------------+-----------+----+-----------------+--------------------+--------------------+-----------+\n",
      "|marketplace|customer_id|     review_id|product_id|product_parent|       product_title|product_category|star_rating|helpful_votes|total_votes|vine|verified_purchase|     review_headline|         review_body|review_date|\n",
      "+-----------+-----------+--------------+----------+--------------+--------------------+----------------+-----------+-------------+-----------+----+-----------------+--------------------+--------------------+-----------+\n",
      "|         US|   41409413|R2MTG1GCZLR2DK|B00428R89M|     112201306|yoomall 5M Antenn...|     Electronics|          5|            0|          0|   N|                Y|          Five Stars|       As described.| 2015-08-31|\n",
      "|         US|   49668221|R2HBOEM8LE9928|B000068O48|     734576678|Hosa GPM-103 3.5m...|     Electronics|          5|            0|          0|   N|                Y|It works as adver...|It works as adver...| 2015-08-31|\n",
      "|         US|   12338275|R1P4RW1R9FDPEE|B000GGKOG8|     614448099|Channel Master Ti...|     Electronics|          5|            1|          1|   N|                Y|          Five Stars|         Works pissa| 2015-08-31|\n",
      "|         US|   38487968|R1EBPM82ENI67M|B000NU4OTA|      72265257|LIMTECH Wall char...|     Electronics|          1|            0|          0|   N|                Y|            One Star|Did not work at all.| 2015-08-31|\n",
      "|         US|   23732619|R372S58V6D11AT|B00JOQIO6S|     308169188|Skullcandy Air Ra...|     Electronics|          5|            1|          1|   N|                Y|Overall pleased w...|Works well. Bass ...| 2015-08-31|\n",
      "|         US|   21257820|R1A4514XOYI1PD|B008NCD2LG|     976385982|Pioneer SP-BS22-L...|     Electronics|          5|            1|          1|   N|                Y|          Five Stars|The quality on th...| 2015-08-31|\n",
      "|         US|    3084991|R20D9EHB7N20V6|B00007FGUF|     670878953|C2G/Cables to Go ...|     Electronics|          5|            0|          0|   N|                Y|           Lifesaver|Wish I could give...| 2015-08-31|\n",
      "|         US|    8153674|R1WUTD8MVSROJU|B00M9V2RMM|     508452933|COOLEAD-HDMI Swit...|     Electronics|          5|            0|          0|   N|                Y|          Five Stars|         works great| 2015-08-31|\n",
      "|         US|   52246189|R1QCYLT25812DM|B00J3O9DYI|     766372886|Philips Wireless ...|     Electronics|          4|            0|          0|   N|                Y|          Four Stars|Great sound and c...| 2015-08-31|\n",
      "|         US|   41463864| R904DQPBCEM7A|B00NS1A0E4|     458130381|PlayStation 3 3D ...|     Electronics|          4|            0|          0|   N|                Y|          Four Stars|    It works well~~~| 2015-08-31|\n",
      "+-----------+-----------+--------------+----------+--------------+--------------------+----------------+-----------+-------------+-----------+----+-----------------+--------------------+--------------------+-----------+\n",
      "only showing top 10 rows\n",
      "\n"
     ]
    }
   ],
   "source": [
    "electronics_clean_data_df.show(10)"
   ]
  },
  {
   "cell_type": "code",
   "execution_count": null,
   "metadata": {
    "id": "kqcYKZtasuMz"
   },
   "outputs": [],
   "source": [
    "# Load in a sql function to use columns\n",
    "from pyspark.sql.functions import col"
   ]
  },
  {
   "cell_type": "code",
   "execution_count": null,
   "metadata": {
    "colab": {
     "base_uri": "https://localhost:8080/",
     "height": 286
    },
    "id": "013rwvd1suTI",
    "outputId": "1368e905-20a4-45f2-9b7f-5c9d619eb1f4"
   },
   "outputs": [
    {
     "name": "stdout",
     "output_type": "stream",
     "text": [
      "+--------------+-----------+-------------+-----------+----+\n",
      "|     review_id|star_rating|helpful_votes|total_votes|vine|\n",
      "+--------------+-----------+-------------+-----------+----+\n",
      "|R2MTG1GCZLR2DK|          5|            0|          0|   N|\n",
      "|R2HBOEM8LE9928|          5|            0|          0|   N|\n",
      "|R1P4RW1R9FDPEE|          5|            1|          1|   N|\n",
      "|R1EBPM82ENI67M|          1|            0|          0|   N|\n",
      "|R372S58V6D11AT|          5|            1|          1|   N|\n",
      "|R1A4514XOYI1PD|          5|            1|          1|   N|\n",
      "|R20D9EHB7N20V6|          5|            0|          0|   N|\n",
      "|R1WUTD8MVSROJU|          5|            0|          0|   N|\n",
      "|R1QCYLT25812DM|          4|            0|          0|   N|\n",
      "| R904DQPBCEM7A|          4|            0|          0|   N|\n",
      "+--------------+-----------+-------------+-----------+----+\n",
      "only showing top 10 rows\n",
      "\n"
     ]
    }
   ],
   "source": [
    "# Create user dataframe to match \"vine_table\" table\n",
    "cleaned_vine_df = electronics_clean_data_df.select([\"review_id\",\"star_rating\",\"helpful_votes\",\"total_votes\",\"vine\"])\n",
    "cleaned_vine_df.show(10)"
   ]
  },
  {
   "cell_type": "code",
   "execution_count": null,
   "metadata": {
    "colab": {
     "base_uri": "https://localhost:8080/",
     "height": 286
    },
    "id": "PG0tI7xAt7vp",
    "outputId": "5ad13639-8d0f-4db0-8f62-48ca2020e605"
   },
   "outputs": [
    {
     "name": "stdout",
     "output_type": "stream",
     "text": [
      "+--------------+-----------+-------------+-----------+----+\n",
      "|     review_id|star_rating|helpful_votes|total_votes|vine|\n",
      "+--------------+-----------+-------------+-----------+----+\n",
      "|R1T7X1RPWYTRBU|          5|            2|          4|   Y|\n",
      "| RJFGZBIFXCC65|          5|            0|          0|   Y|\n",
      "| RSZ6RLTTGWUN6|          5|            0|          1|   Y|\n",
      "|R2N4GVP3Q5PF9Y|          3|            2|          3|   Y|\n",
      "| RCAFL1X52MFZM|          5|            1|          2|   Y|\n",
      "|R17D8E4KO0FS83|          5|            1|          1|   Y|\n",
      "|R184FOUNZZ7KO8|          5|           15|         20|   Y|\n",
      "|R2SP52AJMIERZ5|          3|            0|          0|   Y|\n",
      "|R15VB3EZ2C0W3J|          4|            0|          0|   Y|\n",
      "|R3CMY924EQEGIU|          4|            0|          0|   Y|\n",
      "+--------------+-----------+-------------+-----------+----+\n",
      "only showing top 10 rows\n",
      "\n"
     ]
    }
   ],
   "source": [
    "# Create the dataframe where \"vine\" is \"Y\" to verify whether it belong to Amazon's \"vine-program\" or not \n",
    "Yes_vine_df = cleaned_vine_df.filter(col(\"vine\") == \"Y\") \n",
    "Yes_vine_df.show(10)"
   ]
  },
  {
   "cell_type": "code",
   "execution_count": null,
   "metadata": {
    "colab": {
     "base_uri": "https://localhost:8080/",
     "height": 34
    },
    "id": "5R123UTMt7ym",
    "outputId": "21e3dbc6-b4b2-485f-d60d-74ef08c69c56"
   },
   "outputs": [
    {
     "data": {
      "text/plain": [
       "18512"
      ]
     },
     "execution_count": 28,
     "metadata": {
      "tags": []
     },
     "output_type": "execute_result"
    }
   ],
   "source": [
    "Yes_vine_df.count()"
   ]
  },
  {
   "cell_type": "code",
   "execution_count": null,
   "metadata": {
    "colab": {
     "base_uri": "https://localhost:8080/",
     "height": 185
    },
    "id": "Kea4ejsu_IUd",
    "outputId": "83cbf685-9ea1-41e4-919b-4702ceac603e"
   },
   "outputs": [
    {
     "name": "stdout",
     "output_type": "stream",
     "text": [
      "+-----------+-----+\n",
      "|star_rating|count|\n",
      "+-----------+-----+\n",
      "|          1|  342|\n",
      "|          3| 2656|\n",
      "|          5| 8044|\n",
      "|          4| 6539|\n",
      "|          2|  931|\n",
      "+-----------+-----+\n",
      "\n"
     ]
    }
   ],
   "source": [
    "# Count the star_ratings\n",
    "ratings_Yes_vine = Yes_vine_df.groupBy(Yes_vine_df[\"star_rating\"]).count()\n",
    "ratings_Yes_vine.show()"
   ]
  },
  {
   "cell_type": "code",
   "execution_count": null,
   "metadata": {
    "colab": {
     "base_uri": "https://localhost:8080/",
     "height": 118
    },
    "id": "014aLc2MDX-J",
    "outputId": "35da3287-d949-4f1e-e5fc-65925cb45220"
   },
   "outputs": [
    {
     "name": "stdout",
     "output_type": "stream",
     "text": [
      "+----------------+\n",
      "|avg(star_rating)|\n",
      "+----------------+\n",
      "|4.13504753673293|\n",
      "+----------------+\n",
      "\n"
     ]
    }
   ],
   "source": [
    "from pyspark.sql.functions import mean \n",
    "\n",
    "# Count the average ratings\n",
    "avg_Yes_vine = Yes_vine_df.select(mean(col(\"star_rating\")))\n",
    "avg_Yes_vine.show()"
   ]
  },
  {
   "cell_type": "code",
   "execution_count": null,
   "metadata": {
    "colab": {
     "base_uri": "https://localhost:8080/",
     "height": 118
    },
    "id": "FTWAWc6BIiPE",
    "outputId": "1c59a45a-eb15-4380-f1d1-1d35b4c6c035"
   },
   "outputs": [
    {
     "name": "stdout",
     "output_type": "stream",
     "text": [
      "+----------------+\n",
      "|avg(star_rating)|\n",
      "+----------------+\n",
      "|4.13504753673293|\n",
      "+----------------+\n",
      "\n"
     ]
    }
   ],
   "source": [
    "from pyspark.sql.functions import avg\n",
    "Yes_vine_df.select(avg(\"star_rating\")).show()"
   ]
  },
  {
   "cell_type": "code",
   "execution_count": null,
   "metadata": {
    "colab": {
     "base_uri": "https://localhost:8080/",
     "height": 454
    },
    "id": "OVcw5ThCCtb7",
    "outputId": "fc84c7df-3100-427d-caf7-75fbbf64e4ab"
   },
   "outputs": [
    {
     "name": "stdout",
     "output_type": "stream",
     "text": [
      "+-------------+-----+\n",
      "|helpful_votes|count|\n",
      "+-------------+-----+\n",
      "|          148|    1|\n",
      "|          243|    1|\n",
      "|          540|    1|\n",
      "|           31|   18|\n",
      "|           85|    4|\n",
      "|           65|    2|\n",
      "|           53|    8|\n",
      "|           78|    3|\n",
      "|          321|    1|\n",
      "|          155|    2|\n",
      "|          108|    2|\n",
      "|           34|   16|\n",
      "|          211|    2|\n",
      "|          115|    3|\n",
      "|          126|    1|\n",
      "|           81|    3|\n",
      "|           28|   18|\n",
      "|           76|    3|\n",
      "|           26|   31|\n",
      "|           27|   31|\n",
      "+-------------+-----+\n",
      "only showing top 20 rows\n",
      "\n"
     ]
    }
   ],
   "source": [
    "# Count the helpful_votes\n",
    "helpful_Yes_vine = Yes_vine_df.groupBy(Yes_vine_df[\"helpful_votes\"]).count()\n",
    "helpful_Yes_vine.show()"
   ]
  },
  {
   "cell_type": "code",
   "execution_count": null,
   "metadata": {
    "colab": {
     "base_uri": "https://localhost:8080/",
     "height": 286
    },
    "id": "A8E9Q3uEt8K9",
    "outputId": "7e5bdfd3-73f5-4778-ea68-caa01e3beee7"
   },
   "outputs": [
    {
     "name": "stdout",
     "output_type": "stream",
     "text": [
      "+--------------+-----------+-------------+-----------+----+\n",
      "|     review_id|star_rating|helpful_votes|total_votes|vine|\n",
      "+--------------+-----------+-------------+-----------+----+\n",
      "|R2MTG1GCZLR2DK|          5|            0|          0|   N|\n",
      "|R2HBOEM8LE9928|          5|            0|          0|   N|\n",
      "|R1P4RW1R9FDPEE|          5|            1|          1|   N|\n",
      "|R1EBPM82ENI67M|          1|            0|          0|   N|\n",
      "|R372S58V6D11AT|          5|            1|          1|   N|\n",
      "|R1A4514XOYI1PD|          5|            1|          1|   N|\n",
      "|R20D9EHB7N20V6|          5|            0|          0|   N|\n",
      "|R1WUTD8MVSROJU|          5|            0|          0|   N|\n",
      "|R1QCYLT25812DM|          4|            0|          0|   N|\n",
      "| R904DQPBCEM7A|          4|            0|          0|   N|\n",
      "+--------------+-----------+-------------+-----------+----+\n",
      "only showing top 10 rows\n",
      "\n"
     ]
    }
   ],
   "source": [
    "# Create the dataframe where \"vine\" is \"N\" to verify whether it belong to Amazon's \"vine-program\" or not \n",
    "NO_vine_df = cleaned_vine_df.filter(col(\"vine\") == \"N\") \n",
    "NO_vine_df.show(10)"
   ]
  },
  {
   "cell_type": "code",
   "execution_count": null,
   "metadata": {
    "colab": {
     "base_uri": "https://localhost:8080/",
     "height": 34
    },
    "id": "yOyh2giet8Oi",
    "outputId": "848344a4-41ae-4e2c-d0ba-16ac76041d2f"
   },
   "outputs": [
    {
     "data": {
      "text/plain": [
       "3075148"
      ]
     },
     "execution_count": 31,
     "metadata": {
      "tags": []
     },
     "output_type": "execute_result"
    }
   ],
   "source": [
    "NO_vine_df.count()"
   ]
  },
  {
   "cell_type": "code",
   "execution_count": null,
   "metadata": {
    "colab": {
     "base_uri": "https://localhost:8080/",
     "height": 185
    },
    "id": "BXbIXddY6MH5",
    "outputId": "2b8e7e91-e674-45d5-d4ff-e380762aa697"
   },
   "outputs": [
    {
     "name": "stdout",
     "output_type": "stream",
     "text": [
      "+-----------+-------+\n",
      "|star_rating|  count|\n",
      "+-----------+-------+\n",
      "|          1| 357743|\n",
      "|          3| 235919|\n",
      "|          5|1772987|\n",
      "|          4| 530258|\n",
      "|          2| 178241|\n",
      "+-----------+-------+\n",
      "\n"
     ]
    }
   ],
   "source": [
    "# Count the star_ratings\n",
    "ratings_No_vine = NO_vine_df.groupBy(NO_vine_df[\"star_rating\"]).count()\n",
    "ratings_No_vine.show()"
   ]
  },
  {
   "cell_type": "code",
   "execution_count": null,
   "metadata": {
    "colab": {
     "base_uri": "https://localhost:8080/",
     "height": 454
    },
    "id": "JyZPVkfrC78R",
    "outputId": "cdc57b31-7519-4f54-d16d-1548bdd50540"
   },
   "outputs": [
    {
     "name": "stdout",
     "output_type": "stream",
     "text": [
      "+-------------+-----+\n",
      "|helpful_votes|count|\n",
      "+-------------+-----+\n",
      "|          148|   25|\n",
      "|         1088|    1|\n",
      "|         3794|    1|\n",
      "|         1591|    1|\n",
      "|          471|    1|\n",
      "|          496|    1|\n",
      "|          243|   12|\n",
      "|         1395|    1|\n",
      "|          392|    3|\n",
      "|         1721|    1|\n",
      "|          540|    1|\n",
      "|         1084|    1|\n",
      "|          623|    1|\n",
      "|           31|  964|\n",
      "|          516|    1|\n",
      "|           85|  123|\n",
      "|          137|   33|\n",
      "|          251|    8|\n",
      "|          451|    4|\n",
      "|          580|    1|\n",
      "+-------------+-----+\n",
      "only showing top 20 rows\n",
      "\n"
     ]
    }
   ],
   "source": [
    "# Count the helpful_votes\n",
    "helpful_No_vine = NO_vine_df.groupBy(NO_vine_df[\"helpful_votes\"]).count()\n",
    "helpful_No_vine.show()"
   ]
  },
  {
   "cell_type": "code",
   "execution_count": null,
   "metadata": {
    "colab": {
     "base_uri": "https://localhost:8080/",
     "height": 118
    },
    "id": "_o4O_XHWG_RS",
    "outputId": "e84a35a6-4fb0-4d1e-dcbc-40f632527341"
   },
   "outputs": [
    {
     "name": "stdout",
     "output_type": "stream",
     "text": [
      "+-----------------+\n",
      "| avg(star_rating)|\n",
      "+-----------------+\n",
      "|4.034911165251233|\n",
      "+-----------------+\n",
      "\n"
     ]
    }
   ],
   "source": [
    "# Count the average ratings\n",
    "avg_No_vine = NO_vine_df.select(mean(col(\"star_rating\")))\n",
    "avg_No_vine.show()"
   ]
  }
 ],
 "metadata": {
  "colab": {
   "collapsed_sections": [],
   "name": "Vine_reviews.ipynb",
   "provenance": []
  },
  "kernelspec": {
   "display_name": "Python 3",
   "language": "python",
   "name": "python3"
  },
  "language_info": {
   "codemirror_mode": {
    "name": "ipython",
    "version": 3
   },
   "file_extension": ".py",
   "mimetype": "text/x-python",
   "name": "python",
   "nbconvert_exporter": "python",
   "pygments_lexer": "ipython3",
   "version": "3.8.8"
  }
 },
 "nbformat": 4,
 "nbformat_minor": 1
}
